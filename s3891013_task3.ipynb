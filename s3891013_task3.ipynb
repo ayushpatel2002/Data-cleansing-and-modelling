{
 "cells": [
  {
   "cell_type": "markdown",
   "metadata": {},
   "source": [
    "# Assignment 1: Data Parsing, Cleansing and Integration\n",
    "## Task 3\n",
    "#### Student Name: Ayush Kamleshbhai Patel\n",
    "#### Student ID: s3891013\n",
    "\n",
    "Date: XXXX\n",
    "\n",
    "Version: 1.0\n",
    "\n",
    "Environment: Python 3 and Jupyter notebook\n",
    "\n",
    "Libraries used: please include the main libraries you used in your assignment, e.g.,:\n",
    "* pandas\n",
    "* re\n",
    "* numpy\n",
    "\n",
    "\n",
    "## Introduction\n",
    "Give general information of this assessment here, e.g., what problems you encounter in integration, general steps and solutions you've taken to integrate the data. \n",
    "\n",
    "<span style=\"color: red\"> Note that this is a sample notebook only. You will need to fill in the proper markdown and code blocks. You might also want to make necessary changes to the structure to meet your own needs. Note also that any generic comments written in this notebook are to be removed and replace with your own words.</span>\n"
   ]
  },
  {
   "cell_type": "markdown",
   "metadata": {},
   "source": [
    "##  Import libraries "
   ]
  },
  {
   "cell_type": "code",
   "execution_count": 4,
   "metadata": {
    "collapsed": true
   },
   "outputs": [],
   "source": [
    "# Code to import libraries as you need in this assessment\n",
    "import pandas as pd\n",
    "import numpy as np\n",
    "import matplotlib.pyplot as plt"
   ]
  },
  {
   "cell_type": "markdown",
   "metadata": {},
   "source": [
    "### 1. Examining and loading data\n",
    "Examine \"\\<student\\_id\\>_dataset2.csv\" the structure and schema. "
   ]
  },
  {
   "cell_type": "code",
   "execution_count": 5,
   "metadata": {},
   "outputs": [
    {
     "name": "stdout",
     "output_type": "stream",
     "text": [
      "\n",
      "Summary of Data:\n",
      "         Monthly Payment              Closing   Organisation Location  \\\n",
      "count       5000.000000                 5000           4514     5000   \n",
      "unique              NaN                 2022           2441      437   \n",
      "top                 NaN  2012-10-22 15:00:00  UKStaffsearch       UK   \n",
      "freq                NaN                    8             52      761   \n",
      "mean        2888.458606                  NaN            NaN      NaN   \n",
      "std         1347.913223                  NaN            NaN      NaN   \n",
      "min          417.170000                  NaN            NaN      NaN   \n",
      "25%         1920.000000                  NaN            NaN      NaN   \n",
      "50%         2605.000000                  NaN            NaN      NaN   \n",
      "75%         3541.670000                  NaN            NaN      NaN   \n",
      "max         8000.000000                  NaN            NaN      NaN   \n",
      "\n",
      "                      Category  Full-Time Equivalent (FTE)  \\\n",
      "count                     5000                 5000.000000   \n",
      "unique                       8                         NaN   \n",
      "top     Information Technology                         NaN   \n",
      "freq                      1317                         NaN   \n",
      "mean                       NaN                    0.983360   \n",
      "std                        NaN                    0.098372   \n",
      "min                        NaN                    0.200000   \n",
      "25%                        NaN                    1.000000   \n",
      "50%                        NaN                    1.000000   \n",
      "75%                        NaN                    1.000000   \n",
      "max                        NaN                    1.000000   \n",
      "\n",
      "                    Opening                               Job Title       Type  \n",
      "count                  5000                                    5000       3580  \n",
      "unique                 1943                                    5000          2  \n",
      "top     2013-06-01 00:00:00  Higher Level Teaching Assistant (HLTA)  Permanent  \n",
      "freq                      9                                       1       3040  \n",
      "mean                    NaN                                     NaN        NaN  \n",
      "std                     NaN                                     NaN        NaN  \n",
      "min                     NaN                                     NaN        NaN  \n",
      "25%                     NaN                                     NaN        NaN  \n",
      "50%                     NaN                                     NaN        NaN  \n",
      "75%                     NaN                                     NaN        NaN  \n",
      "max                     NaN                                     NaN        NaN  \n",
      "\n",
      "Missing Values in Each Column:\n",
      " Monthly Payment                  0\n",
      "Closing                          0\n",
      "Organisation                   486\n",
      "Location                         0\n",
      "Category                         0\n",
      "Full-Time Equivalent (FTE)       0\n",
      "Opening                          0\n",
      "Job Title                        0\n",
      "Type                          1420\n",
      "dtype: int64\n",
      "\n",
      "Info of the Data Frame:\n",
      "<class 'pandas.core.frame.DataFrame'>\n",
      "RangeIndex: 5000 entries, 0 to 4999\n",
      "Data columns (total 9 columns):\n",
      " #   Column                      Non-Null Count  Dtype  \n",
      "---  ------                      --------------  -----  \n",
      " 0   Monthly Payment             5000 non-null   float64\n",
      " 1   Closing                     5000 non-null   object \n",
      " 2   Organisation                4514 non-null   object \n",
      " 3   Location                    5000 non-null   object \n",
      " 4   Category                    5000 non-null   object \n",
      " 5   Full-Time Equivalent (FTE)  5000 non-null   float64\n",
      " 6   Opening                     5000 non-null   object \n",
      " 7   Job Title                   5000 non-null   object \n",
      " 8   Type                        3580 non-null   object \n",
      "dtypes: float64(2), object(7)\n",
      "memory usage: 351.7+ KB\n",
      "\n",
      "Unique Values for Categorical Columns:\n",
      "Closing : 2022\n",
      "Organisation : 2441\n",
      "Location : 437\n",
      "Category : 8\n",
      "Opening : 1943\n",
      "Job Title : 5000\n",
      "Type : 2\n"
     ]
    },
    {
     "data": {
      "image/png": "[encoded data removed]",
      "text/plain": [
       "<Figure size 640x480 with 1 Axes>"
      ]
     },
     "metadata": {},
     "output_type": "display_data"
    },
    {
     "data": {
      "image/png": "[encoded data removed]",
      "text/plain": [
       "<Figure size 640x480 with 1 Axes>"
      ]
     },
     "metadata": {},
     "output_type": "display_data"
    }
   ],
   "source": [
    "# Code to inspect the provided data file\n",
    "# Couple of notes for all code block in this notebook\n",
    "## please provide proper comment on your code\n",
    "## Please re-start and run all cells to make sure codes are runable and include your output in the submission\n",
    "# -------------------------------------------------------------------------------------------------------------\n",
    "df = pd.read_csv('s3891013_dataset2.csv')\n",
    "# Provide a summary of the data\n",
    "print(\"\\nSummary of Data:\\n\", df.describe(include='all'))\n",
    "\n",
    "# Check for missing values in the dataset\n",
    "print(\"\\nMissing Values in Each Column:\\n\", df.isnull().sum())\n",
    "\n",
    "# Display the structure (info) of the data frame\n",
    "print(\"\\nInfo of the Data Frame:\")\n",
    "df.info()\n",
    "\n",
    "# Display unique values for categorical columns\n",
    "cat_cols = df.select_dtypes(['object']).columns\n",
    "print(\"\\nUnique Values for Categorical Columns:\")\n",
    "for col in cat_cols:\n",
    "    print(col, \":\", df[col].nunique())\n",
    "\n",
    "# Plot histograms for numeric columns\n",
    "num_cols = df.select_dtypes(['float64', 'int64']).columns\n",
    "\n",
    "for col in num_cols:\n",
    "    plt.figure()\n",
    "    df[col].hist(bins=50)\n",
    "    plt.title(f\"Histogram of {col}\")\n",
    "    plt.xlabel(col)\n",
    "    plt.ylabel(\"Frequency\")\n",
    "    plt.grid(False)\n",
    "    plt.show()"
   ]
  },
  {
   "cell_type": "markdown",
   "metadata": {},
   "source": [
    "### 2. Resolving schema conflicts\n",
    "Give some general information about the conflicts you found in two schemas and steps you taken to resolve them.\n",
    "\n",
    "<span style=\"color: red\"> You might have complex notebook structure in this section, please feel free to create your own notebook structure. </span>"
   ]
  },
  {
   "cell_type": "markdown",
   "metadata": {},
   "source": [
    "#### Conflict 1: XXXX (e.g. naming conflicts in xx column and xx column)\n",
    "Here give some general information about this conflict."
   ]
  },
  {
   "cell_type": "code",
   "execution_count": 6,
   "metadata": {
    "scrolled": false
   },
   "outputs": [
    {
     "data": {
      "text/plain": [
       "Monthly Payment                684\n",
       "Closing                       2022\n",
       "Organisation                  2441\n",
       "Location                       437\n",
       "Category                         8\n",
       "Full-Time Equivalent (FTE)       5\n",
       "Opening                       1943\n",
       "Job Title                     5000\n",
       "Type                             2\n",
       "dtype: int64"
      ]
     },
     "execution_count": 6,
     "metadata": {},
     "output_type": "execute_result"
    }
   ],
   "source": [
    "# Code to inspect data and identify conflicts in schema\n",
    "df.nunique()"
   ]
  },
  {
   "cell_type": "markdown",
   "metadata": {},
   "source": [
    "Tell me about how you fix the conflict here"
   ]
  },
  {
   "cell_type": "code",
   "execution_count": 3,
   "metadata": {},
   "outputs": [],
   "source": [
    "# Code to fix the conflict"
   ]
  },
  {
   "cell_type": "markdown",
   "metadata": {},
   "source": [
    "#### Conflict 2: XXXX\n",
    "......"
   ]
  },
  {
   "cell_type": "markdown",
   "metadata": {},
   "source": [
    "### 3. Merging data\n",
    "\n",
    "<span style=\"color: red\"> You might have complex notebook structure in this section, please feel free to create your own notebook structure. </span>"
   ]
  },
  {
   "cell_type": "code",
   "execution_count": 4,
   "metadata": {
    "collapsed": true
   },
   "outputs": [],
   "source": [
    "# Code to merge two data sets"
   ]
  },
  {
   "cell_type": "markdown",
   "metadata": {},
   "source": [
    "### 4. Resolving data conflicts:\n",
    "Give some general information about the data conflicts you found in the unified table and how you resolve them.\n",
    "\n",
    "<span style=\"color: red\"> You might have complex notebook structure in this section, please feel free to create your own notebook structure. </span>"
   ]
  },
  {
   "cell_type": "markdown",
   "metadata": {},
   "source": [
    "#### Conflict 1: XXXX (e.g., complete duplications)\n",
    "Here give some general information about this conflict."
   ]
  },
  {
   "cell_type": "code",
   "execution_count": 5,
   "metadata": {
    "collapsed": true
   },
   "outputs": [],
   "source": [
    "# Code to inspect data and identify conflicts in data"
   ]
  },
  {
   "cell_type": "markdown",
   "metadata": {},
   "source": [
    "Tell me about how you fix the conflict here"
   ]
  },
  {
   "cell_type": "code",
   "execution_count": 6,
   "metadata": {
    "collapsed": true
   },
   "outputs": [],
   "source": [
    "# Code to fix the conflict"
   ]
  },
  {
   "cell_type": "markdown",
   "metadata": {},
   "source": [
    "......"
   ]
  },
  {
   "cell_type": "markdown",
   "metadata": {},
   "source": [
    "#### Finding global key for the data\n",
    "Find a proper global key for the integrated data and give justification here."
   ]
  },
  {
   "cell_type": "code",
   "execution_count": 7,
   "metadata": {
    "collapsed": true
   },
   "outputs": [],
   "source": [
    "# Code to identify global key"
   ]
  },
  {
   "cell_type": "markdown",
   "metadata": {},
   "source": [
    "......."
   ]
  },
  {
   "cell_type": "markdown",
   "metadata": {},
   "source": [
    "#### Conflict 2: XXXX (e.g., other duplications)\n",
    "Here give some general information about this conflict."
   ]
  },
  {
   "cell_type": "markdown",
   "metadata": {},
   "source": [
    "### 5. Saving the integrated and reshaped data\n",
    "The last part of the integration process is to export our output data to csv format, named as:\n",
    "- '\\<student\\_id\\>_dataset_integrated.csv'"
   ]
  },
  {
   "cell_type": "code",
   "execution_count": null,
   "metadata": {
    "collapsed": true
   },
   "outputs": [],
   "source": [
    "# code to save output data"
   ]
  },
  {
   "cell_type": "markdown",
   "metadata": {},
   "source": [
    "## Summary of the Assessment Task\n",
    "Give a short summary and anything you would like to talk about this assessment task here."
   ]
  }
 ],
 "metadata": {
  "kernelspec": {
   "display_name": "Python 3",
   "language": "python",
   "name": "python3"
  },
  "language_info": {
   "codemirror_mode": {
    "name": "ipython",
    "version": 3
   },
   "file_extension": ".py",
   "mimetype": "text/x-python",
   "name": "python",
   "nbconvert_exporter": "python",
   "pygments_lexer": "ipython3",
   "version": "3.8.17"
  }
 },
 "nbformat": 4,
 "nbformat_minor": 1
}
